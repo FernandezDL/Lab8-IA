{
 "cells": [
  {
   "cell_type": "code",
   "execution_count": 83,
   "metadata": {},
   "outputs": [],
   "source": [
    "import time\n"
   ]
  },
  {
   "cell_type": "code",
   "execution_count": 84,
   "metadata": {},
   "outputs": [],
   "source": [
    "## Definición de variables\n",
    "dias = [\"Lunes\", \"Martes\", \"Miercoles\"]\n",
    "## Examen, curso\n",
    "examenes = [\n",
    "    ('E1', 'C1'), ('E2', 'C2'), ('E3', 'C3'), ('E4', 'C4'),\n",
    "    ('E5', 'C5'), ('E6', 'C6'), ('E7', 'C4'), ('E8', 'C8'),\n",
    "    ('E9', 'C9'), ('E10', 'C1'), ('E11', 'C11'), ('E12', 'C3'),\n",
    "    ('E13', 'C13'), ('E14', 'C14'), ('E15', 'C4'), ('E16', 'C16'),\n",
    "    ('E17', 'C5'), ('E18', 'C6'), ('E19', 'C3'), ('E20', 'C8')\n",
    "    ,('E21', 'C9')#, ('E22', 'C10'), ('E23', 'C11'), ('E24', 'C3')\n",
    "    #('E25', 'C13'), ('E26', 'C14'), ('E27', 'C4'), ('E28', 'C2'),\n",
    "    #('E29', 'C5'), ('E30', 'C6')\n",
    "]"
   ]
  },
  {
   "cell_type": "code",
   "execution_count": 85,
   "metadata": {},
   "outputs": [],
   "source": [
    "## Restricciones para garantizar que todos los exámenes se realicen en días diferentes, que\n",
    "#ningún estudiante tenga más de un examen por día y que los estudiantes que toman el mismo\n",
    "#curso no tengan exámenes el mismo día\n",
    "\n",
    "def solucion_valida(asignacion, examen_actual, dia_actual):\n",
    "    for examen, dia in asignacion.items(): \n",
    "        if dia == dia_actual:\n",
    "            estudiante_actual, curso_actual = examen_actual\n",
    "            estudiante, curso = examen\n",
    "            if estudiante_actual == estudiante or curso_actual == curso:\n",
    "                return False\n",
    "    return True"
   ]
  },
  {
   "cell_type": "markdown",
   "metadata": {},
   "source": [
    "## Algoritmo de Backtraking Search"
   ]
  },
  {
   "cell_type": "code",
   "execution_count": 81,
   "metadata": {},
   "outputs": [],
   "source": [
    "# MCV Variable más restringida\n",
    "\n",
    "\n",
    "def MCV(examenes, asignacion, dias):\n",
    "    min_opciones = float('inf')\n",
    "    examen_seleccionado = None\n",
    "    for examen in examenes:\n",
    "        if examen not in asignacion:\n",
    "            opciones_validas = 0\n",
    "            for dia in dias:\n",
    "                if solucion_valida(asignacion, examen, dia):\n",
    "                    opciones_validas += 1\n",
    "            if opciones_validas < min_opciones:\n",
    "                min_opciones = opciones_validas\n",
    "                examen_seleccionado = examen\n",
    "    return examen_seleccionado\n",
    "\n",
    "\n",
    "def backtracking_search(examenes, dias, asignacion={}):\n",
    "    if len(asignacion) == len(examenes):\n",
    "        return asignacion\n",
    "    \n",
    "    examen = MCV(examenes, asignacion, dias)\n",
    "    if examen is not None:\n",
    "        for dia in dias:\n",
    "            if solucion_valida(asignacion, examen, dia):\n",
    "                asignacion[examen] = dia \n",
    "                resultado = backtracking_search(examenes, dias, asignacion)  \n",
    "                if resultado is not None:\n",
    "                    return resultado  \n",
    "                asignacion.pop(examen)\n",
    "    else:\n",
    "        print(\"No se encontró solución\")\n",
    "    return None"
   ]
  },
  {
   "cell_type": "code",
   "execution_count": 82,
   "metadata": {},
   "outputs": [
    {
     "name": "stdout",
     "output_type": "stream",
     "text": [
      "Lunes:\n",
      "  Estudiante E1, Curso C1\n",
      "  Estudiante E2, Curso C2\n",
      "  Estudiante E3, Curso C3\n",
      "  Estudiante E4, Curso C4\n",
      "  Estudiante E5, Curso C5\n",
      "  Estudiante E6, Curso C6\n",
      "  Estudiante E8, Curso C8\n",
      "  Estudiante E9, Curso C9\n",
      "  Estudiante E11, Curso C11\n",
      "  Estudiante E13, Curso C13\n",
      "  Estudiante E14, Curso C14\n",
      "  Estudiante E16, Curso C16\n",
      "\n",
      "Martes:\n",
      "  Estudiante E10, Curso C1\n",
      "  Estudiante E12, Curso C3\n",
      "  Estudiante E7, Curso C4\n",
      "  Estudiante E17, Curso C5\n",
      "  Estudiante E18, Curso C6\n",
      "  Estudiante E20, Curso C8\n",
      "  Estudiante E21, Curso C9\n",
      "\n",
      "Miercoles:\n",
      "  Estudiante E19, Curso C3\n",
      "  Estudiante E15, Curso C4\n",
      "\n",
      "Tiempo de ejecución: 0.0011472702026367188 segundos.\n"
     ]
    }
   ],
   "source": [
    "def imprimir_solucion(solucion):\n",
    "    if solucion is None:\n",
    "        print(\"No se encontró ninguna solución.\")\n",
    "        return\n",
    "    \n",
    "    solucion_por_dia = {}\n",
    "    for examen, dia in solucion.items():\n",
    "        if dia not in solucion_por_dia:\n",
    "            solucion_por_dia[dia] = []\n",
    "        solucion_por_dia[dia].append(examen)\n",
    "\n",
    "    for dia, examenes in solucion_por_dia.items():\n",
    "        print(f\"{dia}:\")\n",
    "        for examen in examenes:\n",
    "            estudiante, curso = examen\n",
    "            print(f\"  Estudiante {estudiante}, Curso {curso}\")\n",
    "        print()\n",
    "\n",
    "inicio = time.time()\n",
    "solucion = backtracking_search(examenes, dias)\n",
    "fin = time.time()\n",
    "\n",
    "imprimir_solucion(solucion)\n",
    "\n",
    "duracion = fin - inicio\n",
    "print(f\"Tiempo de ejecución: {duracion} segundos.\")"
   ]
  },
  {
   "cell_type": "markdown",
   "metadata": {},
   "source": [
    "## Beam Search Algorithm"
   ]
  },
  {
   "cell_type": "code",
   "execution_count": 86,
   "metadata": {},
   "outputs": [],
   "source": [
    "def calcular_conflictos(asignacion):\n",
    "    conflictos = 0\n",
    "    for examen1, dia1 in asignacion.items():\n",
    "        for examen2, dia2 in asignacion.items():\n",
    "            if dia1 == dia2 and examen1 != examen2:\n",
    "                if examen1[0] == examen2[0] or examen1[1] == examen2[1]: \n",
    "                    conflictos += 1\n",
    "    return conflictos / 2 \n",
    "\n",
    "def beam_search(examenes, dias, ancho_beam=2):\n",
    "    estados = [{}]\n",
    "    for examen in examenes:\n",
    "        nuevos_estados = []\n",
    "        for estado in estados:\n",
    "            for dia in dias:\n",
    "                if solucion_valida(estado, examen, dia):\n",
    "                    nuevo_estado = estado.copy()\n",
    "                    nuevo_estado[examen] = dia\n",
    "                    nuevos_estados.append(nuevo_estado)\n",
    "        \n",
    "        # Evaluar y mantener solo los 'ancho_beam' mejores estados\n",
    "        nuevos_estados.sort(key=calcular_conflictos)\n",
    "        estados = nuevos_estados[:ancho_beam]\n",
    "        \n",
    "        for estado in estados:\n",
    "            if calcular_conflictos(estado) == 0:\n",
    "                return estado\n",
    "    return None  "
   ]
  },
  {
   "cell_type": "code",
   "execution_count": 87,
   "metadata": {},
   "outputs": [
    {
     "name": "stdout",
     "output_type": "stream",
     "text": [
      "Lunes:\n",
      "  Estudiante E1, Curso C1\n",
      "\n",
      "Tiempo de ejecución: 0.0 segundos.\n"
     ]
    }
   ],
   "source": [
    "def imprimir_solucion(solucion):\n",
    "    if solucion is None:\n",
    "        print(\"No se encontró ninguna solución.\")\n",
    "        return\n",
    "    \n",
    "    solucion_por_dia = {}\n",
    "    for examen, dia in solucion.items():\n",
    "        if dia not in solucion_por_dia:\n",
    "            solucion_por_dia[dia] = []\n",
    "        solucion_por_dia[dia].append(examen)\n",
    "\n",
    "    for dia, examenes in solucion_por_dia.items():\n",
    "        print(f\"{dia}:\")\n",
    "        for examen in examenes:\n",
    "            estudiante, curso = examen\n",
    "            print(f\"  Estudiante {estudiante}, Curso {curso}\")\n",
    "        print()\n",
    "\n",
    "inicio = time.time()\n",
    "solucion = beam_search(examenes, dias)\n",
    "fin = time.time()\n",
    "\n",
    "imprimir_solucion(solucion)\n",
    "\n",
    "duracion = fin - inicio\n",
    "print(f\"Tiempo de ejecución: {duracion} segundos.\")"
   ]
  }
 ],
 "metadata": {
  "kernelspec": {
   "display_name": "Python 3",
   "language": "python",
   "name": "python3"
  },
  "language_info": {
   "codemirror_mode": {
    "name": "ipython",
    "version": 3
   },
   "file_extension": ".py",
   "mimetype": "text/x-python",
   "name": "python",
   "nbconvert_exporter": "python",
   "pygments_lexer": "ipython3",
   "version": "3.11.8"
  }
 },
 "nbformat": 4,
 "nbformat_minor": 2
}
