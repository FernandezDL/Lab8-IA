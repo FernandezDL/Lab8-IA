{
 "cells": [
  {
   "cell_type": "code",
   "execution_count": 60,
   "metadata": {},
   "outputs": [],
   "source": [
    "import time\n"
   ]
  },
  {
   "cell_type": "code",
   "execution_count": 61,
   "metadata": {},
   "outputs": [],
   "source": [
    "## Definición de variables\n",
    "examenes = [('E1', 'C1'), ('E2', 'C2'), ('E3', 'C3'), ('E4', 'C4'), ('E1', 'C5'), ('E2', 'C6'), ('E3', 'C7')]\n",
    "dias = ['Lunes', 'Martes', 'Miércoles']\n"
   ]
  },
  {
   "cell_type": "code",
   "execution_count": 62,
   "metadata": {},
   "outputs": [],
   "source": [
    "## Restricciones para garantizar que todos los exámenes se realicen en días diferentes, que\n",
    "#ningún estudiante tenga más de un examen por día y que los estudiantes que toman el mismo\n",
    "#curso no tengan exámenes el mismo día\n",
    "\n",
    "def solucion_valida(asignacion, examen_actual, dia_actual):\n",
    "    for examen, dia in asignacion.items(): \n",
    "        if dia == dia_actual:\n",
    "            estudiante_actual, curso_actual = examen_actual\n",
    "            estudiante, curso = examen\n",
    "            if estudiante_actual == estudiante or curso_actual == curso:\n",
    "                return False\n",
    "    return True"
   ]
  },
  {
   "cell_type": "markdown",
   "metadata": {},
   "source": [
    "## Algoritmo de Backtraking Search"
   ]
  },
  {
   "cell_type": "code",
   "execution_count": 24,
   "metadata": {},
   "outputs": [],
   "source": [
    "# MCV Variable más restringida\n",
    "\n",
    "\n",
    "def MCV(examenes, asignacion, dias):\n",
    "    min_opciones = float('inf')\n",
    "    examen_seleccionado = None\n",
    "    for examen in examenes:\n",
    "        if examen not in asignacion:\n",
    "            opciones_validas = 0\n",
    "            for dia in dias:\n",
    "                if solucion_valida(asignacion, examen, dia):\n",
    "                    opciones_validas += 1\n",
    "            if opciones_validas < min_opciones:\n",
    "                min_opciones = opciones_validas\n",
    "                examen_seleccionado = examen\n",
    "    return examen_seleccionado\n",
    "\n",
    "\n",
    "def backtracking_search(examenes, dias, asignacion={}):\n",
    "    if len(asignacion) == len(examenes):\n",
    "        return asignacion\n",
    "    \n",
    "    examen = MCV(examenes, asignacion, dias)\n",
    "    if examen is not None:\n",
    "        for dia in dias:\n",
    "            if solucion_valida(asignacion, examen, dia):\n",
    "                asignacion[examen] = dia \n",
    "                resultado = backtracking_search(examenes, dias, asignacion)  \n",
    "                if resultado is not None:\n",
    "                    return resultado  \n",
    "                asignacion.pop(examen)\n",
    "    else:\n",
    "        print(\"No se encontró solución\")\n",
    "    return None"
   ]
  },
  {
   "cell_type": "code",
   "execution_count": 25,
   "metadata": {},
   "outputs": [
    {
     "name": "stdout",
     "output_type": "stream",
     "text": [
      "Lunes:\n",
      "  Estudiante E1, Curso C1\n",
      "  Estudiante E2, Curso C2\n",
      "  Estudiante E3, Curso C3\n",
      "  Estudiante E4, Curso C4\n",
      "\n",
      "Martes:\n",
      "  Estudiante E1, Curso C5\n",
      "  Estudiante E2, Curso C6\n",
      "  Estudiante E3, Curso C7\n",
      "\n",
      "Tiempo de ejecución: 0.001135110855102539 segundos.\n"
     ]
    }
   ],
   "source": [
    "def imprimir_solucion(solucion):\n",
    "    if solucion is None:\n",
    "        print(\"No se encontró ninguna solución.\")\n",
    "        return\n",
    "    \n",
    "    solucion_por_dia = {}\n",
    "    for examen, dia in solucion.items():\n",
    "        if dia not in solucion_por_dia:\n",
    "            solucion_por_dia[dia] = []\n",
    "        solucion_por_dia[dia].append(examen)\n",
    "\n",
    "    for dia, examenes in solucion_por_dia.items():\n",
    "        print(f\"{dia}:\")\n",
    "        for examen in examenes:\n",
    "            estudiante, curso = examen\n",
    "            print(f\"  Estudiante {estudiante}, Curso {curso}\")\n",
    "        print()\n",
    "\n",
    "inicio = time.time()\n",
    "solucion = backtracking_search(examenes, dias)\n",
    "fin = time.time()\n",
    "\n",
    "imprimir_solucion(solucion)\n",
    "\n",
    "duracion = fin - inicio\n",
    "print(f\"Tiempo de ejecución: {duracion} segundos.\")"
   ]
  },
  {
   "cell_type": "markdown",
   "metadata": {},
   "source": [
    "El algoritmo de Backtracking Search pudo encontrar una solución óptima para el problema de manera muy eficiente, en un tiempo extremadamente corto, lo que sugiere que es adecuado para resolver este tipo de problemas incluso con un conjunto de datos modestamente grande."
   ]
  },
  {
   "cell_type": "markdown",
   "metadata": {},
   "source": [
    "## Beam Search Algorithm"
   ]
  },
  {
   "cell_type": "code",
   "execution_count": 58,
   "metadata": {},
   "outputs": [],
   "source": [
    "def calcular_conflictos(asignacion):\n",
    "    conflictos = 0\n",
    "    examenes_asignados = list(asignacion.keys())\n",
    "    for i, examen1 in enumerate(examenes_asignados):\n",
    "        for examen2 in examenes_asignados[i + 1:]:\n",
    "            dia1 = asignacion[examen1]\n",
    "            dia2 = asignacion[examen2]\n",
    "            if dia1 == dia2 and (examen1[0] == examen2[0] or examen1[1] == examen2[1]):\n",
    "                conflictos += 1\n",
    "    return conflictos\n",
    "\n",
    "def beam_search(examenes, dias, ancho_beam=2):\n",
    "    estados = [{}]\n",
    "    for examen in examenes:\n",
    "        nuevos_estados = []\n",
    "        for estado in estados:\n",
    "            for dia in dias:\n",
    "                if solucion_valida(estado, examen, dia):\n",
    "                    nuevo_estado = estado.copy()\n",
    "                    nuevo_estado[examen] = dia\n",
    "                    nuevos_estados.append(nuevo_estado)\n",
    "        \n",
    "        # Evaluar y mantener solo los 'ancho_beam' mejores estados\n",
    "        nuevos_estados.sort(key=lambda x: calcular_conflictos(x))\n",
    "        estados = nuevos_estados[:ancho_beam]\n",
    "        \n",
    "        # Verificar si algún estado asigna todos los exámenes\n",
    "        for estado in estados:\n",
    "            if len(estado) == len(examenes):\n",
    "                return estado\n",
    "                \n",
    "    return None "
   ]
  },
  {
   "cell_type": "code",
   "execution_count": 59,
   "metadata": {},
   "outputs": [
    {
     "name": "stdout",
     "output_type": "stream",
     "text": [
      "Lunes:\n",
      "  Estudiante E1, Curso C1\n",
      "  Estudiante E2, Curso C2\n",
      "  Estudiante E3, Curso C3\n",
      "  Estudiante E4, Curso C4\n",
      "\n",
      "Martes:\n",
      "  Estudiante E1, Curso C5\n",
      "  Estudiante E2, Curso C6\n",
      "  Estudiante E3, Curso C7\n",
      "\n",
      "Tiempo de ejecución: 0.0 segundos.\n"
     ]
    }
   ],
   "source": [
    "def imprimir_solucion(solucion):\n",
    "    if solucion is None:\n",
    "        print(\"No se encontró ninguna solución.\")\n",
    "        return\n",
    "    \n",
    "    solucion_por_dia = {}\n",
    "    for examen, dia in solucion.items():\n",
    "        if dia not in solucion_por_dia:\n",
    "            solucion_por_dia[dia] = []\n",
    "        solucion_por_dia[dia].append(examen)\n",
    "\n",
    "    for dia, examenes in solucion_por_dia.items():\n",
    "        print(f\"{dia}:\")\n",
    "        for examen in examenes:\n",
    "            estudiante, curso = examen\n",
    "            print(f\"  Estudiante {estudiante}, Curso {curso}\")\n",
    "        print()\n",
    "\n",
    "inicio = time.time()\n",
    "solucion = beam_search(examenes, dias)\n",
    "fin = time.time()\n",
    "\n",
    "imprimir_solucion(solucion)\n",
    "\n",
    "duracion = fin - inicio\n",
    "print(f\"Tiempo de ejecución: {duracion} segundos.\")\n"
   ]
  },
  {
   "cell_type": "markdown",
   "metadata": {},
   "source": [
    "El algoritmo de Beam Search ha demostrado ser eficaz para resolver el problema de programación de exámenes, asignando exámenes a diferentes días de la semana de manera que se respeten todas las restricciones impuestas, como la limitación de un examen por día para cada estudiante y la restricción de que estudiantes que toman el mismo curso no tengan exámenes el mismo día.\n",
    "\n",
    "En cuanto al tiempo de respuesta, el algoritmo de Beam Search ha mostrado un rendimiento excelente, encontrando una solución válida en un tiempo de ejecución muy corto, en este caso, 0.0 segundos. Esto demuestra la eficiencia del algoritmo en resolver problemas de este tipo incluso con conjuntos de datos más grandes."
   ]
  },
  {
   "cell_type": "markdown",
   "metadata": {},
   "source": [
    "## Local Search Algorithm"
   ]
  },
  {
   "cell_type": "code",
   "execution_count": 63,
   "metadata": {},
   "outputs": [
    {
     "name": "stdout",
     "output_type": "stream",
     "text": [
      "Iteración: 0, Vecinos generados: 8\n",
      "Iteraciones realizadas: 0\n",
      "Miércoles:\n",
      "  Estudiante E1, Curso C1\n",
      "  Estudiante E4, Curso C4\n",
      "\n",
      "Lunes:\n",
      "  Estudiante E2, Curso C2\n",
      "  Estudiante E1, Curso C5\n",
      "  Estudiante E3, Curso C7\n",
      "\n",
      "Martes:\n",
      "  Estudiante E3, Curso C3\n",
      "  Estudiante E2, Curso C6\n",
      "\n",
      "Tiempo de ejecución de Local Search: 0.00099945068359375 segundos.\n"
     ]
    }
   ],
   "source": [
    "import random\n",
    "\n",
    "\n",
    "def generar_vecinos(solucion):\n",
    "    vecinos = []\n",
    "    for examen, dia in solucion.items():\n",
    "        for nuevo_dia in dias:\n",
    "            if nuevo_dia != dia and solucion_valida(solucion, examen, nuevo_dia):\n",
    "                vecino = solucion.copy()\n",
    "                vecino[examen] = nuevo_dia\n",
    "                vecinos.append(vecino)\n",
    "    return vecinos\n",
    "    \n",
    "def local_search(examenes, dias):\n",
    "    solucion_actual = {examen: random.choice(dias) for examen in examenes}\n",
    "    mejor_solucion = solucion_actual.copy()\n",
    "    mejor_conflictos = calcular_conflictos(mejor_solucion)\n",
    "    iteraciones = 0\n",
    "    \n",
    "    while True:\n",
    "        vecinos = generar_vecinos(solucion_actual)\n",
    "        print(f\"Iteración: {iteraciones}, Vecinos generados: {len(vecinos)}\")\n",
    "        if not vecinos:\n",
    "            break\n",
    "        \n",
    "        vecino = min(vecinos, key=calcular_conflictos)\n",
    "        conflictos_vecino = calcular_conflictos(vecino)\n",
    "        \n",
    "        if conflictos_vecino < mejor_conflictos:\n",
    "            mejor_solucion = vecino\n",
    "            mejor_conflictos = conflictos_vecino\n",
    "        \n",
    "        if conflictos_vecino == 0:\n",
    "            break\n",
    "        \n",
    "        solucion_actual = vecino\n",
    "        iteraciones += 1\n",
    "    \n",
    "    print(f\"Iteraciones realizadas: {iteraciones}\")\n",
    "    return mejor_solucion\n",
    "\n",
    "inicio_local_search = time.time()\n",
    "solucion_local_search = local_search(examenes, dias)\n",
    "fin_local_search = time.time()\n",
    "\n",
    "imprimir_solucion(solucion_local_search)\n",
    "duracion_local_search = fin_local_search - inicio_local_search\n",
    "print(f\"Tiempo de ejecución de Local Search: {duracion_local_search} segundos.\")\n"
   ]
  },
  {
   "cell_type": "code",
   "execution_count": null,
   "metadata": {},
   "outputs": [],
   "source": []
  }
 ],
 "metadata": {
  "kernelspec": {
   "display_name": "Python 3 (ipykernel)",
   "language": "python",
   "name": "python3"
  },
  "language_info": {
   "codemirror_mode": {
    "name": "ipython",
    "version": 3
   },
   "file_extension": ".py",
   "mimetype": "text/x-python",
   "name": "python",
   "nbconvert_exporter": "python",
   "pygments_lexer": "ipython3",
   "version": "3.11.8"
  }
 },
 "nbformat": 4,
 "nbformat_minor": 4
}
